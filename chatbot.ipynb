{
 "cells": [
  {
   "cell_type": "code",
   "execution_count": 8,
   "metadata": {},
   "outputs": [
    {
     "name": "stdout",
     "output_type": "stream",
     "text": [
      "Requirement already satisfied: sentence_transformers in c:\\users\\sw2158\\appdata\\local\\programs\\python\\python310\\lib\\site-packages (2.2.2)\n",
      "Requirement already satisfied: transformers<5.0.0,>=4.6.0 in c:\\users\\sw2158\\appdata\\local\\programs\\python\\python310\\lib\\site-packages (from sentence_transformers) (4.25.1)\n",
      "Requirement already satisfied: tqdm in c:\\users\\sw2158\\appdata\\local\\programs\\python\\python310\\lib\\site-packages (from sentence_transformers) (4.64.1)\n",
      "Requirement already satisfied: torch>=1.6.0 in c:\\users\\sw2158\\appdata\\local\\programs\\python\\python310\\lib\\site-packages (from sentence_transformers) (1.13.1)\n",
      "Requirement already satisfied: torchvision in c:\\users\\sw2158\\appdata\\local\\programs\\python\\python310\\lib\\site-packages (from sentence_transformers) (0.14.1)\n",
      "Requirement already satisfied: numpy in c:\\users\\sw2158\\appdata\\local\\programs\\python\\python310\\lib\\site-packages (from sentence_transformers) (1.24.0)\n",
      "Requirement already satisfied: scikit-learn in c:\\users\\sw2158\\appdata\\local\\programs\\python\\python310\\lib\\site-packages (from sentence_transformers) (1.2.0)\n",
      "Requirement already satisfied: scipy in c:\\users\\sw2158\\appdata\\local\\programs\\python\\python310\\lib\\site-packages (from sentence_transformers) (1.9.3)\n",
      "Requirement already satisfied: nltk in c:\\users\\sw2158\\appdata\\local\\programs\\python\\python310\\lib\\site-packages (from sentence_transformers) (3.8)\n",
      "Requirement already satisfied: sentencepiece in c:\\users\\sw2158\\appdata\\local\\programs\\python\\python310\\lib\\site-packages (from sentence_transformers) (0.1.97)\n",
      "Requirement already satisfied: huggingface-hub>=0.4.0 in c:\\users\\sw2158\\appdata\\local\\programs\\python\\python310\\lib\\site-packages (from sentence_transformers) (0.11.1)\n",
      "Requirement already satisfied: pyyaml>=5.1 in c:\\users\\sw2158\\appdata\\local\\programs\\python\\python310\\lib\\site-packages (from huggingface-hub>=0.4.0->sentence_transformers) (6.0)\n",
      "Requirement already satisfied: requests in c:\\users\\sw2158\\appdata\\local\\programs\\python\\python310\\lib\\site-packages (from huggingface-hub>=0.4.0->sentence_transformers) (2.28.1)\n",
      "Requirement already satisfied: filelock in c:\\users\\sw2158\\appdata\\local\\programs\\python\\python310\\lib\\site-packages (from huggingface-hub>=0.4.0->sentence_transformers) (3.8.2)\n",
      "Requirement already satisfied: packaging>=20.9 in c:\\users\\sw2158\\appdata\\roaming\\python\\python310\\site-packages (from huggingface-hub>=0.4.0->sentence_transformers) (22.0)\n",
      "Requirement already satisfied: typing-extensions>=3.7.4.3 in c:\\users\\sw2158\\appdata\\local\\programs\\python\\python310\\lib\\site-packages (from huggingface-hub>=0.4.0->sentence_transformers) (4.4.0)\n",
      "Requirement already satisfied: regex!=2019.12.17 in c:\\users\\sw2158\\appdata\\local\\programs\\python\\python310\\lib\\site-packages (from transformers<5.0.0,>=4.6.0->sentence_transformers) (2022.10.31)\n",
      "Requirement already satisfied: tokenizers!=0.11.3,<0.14,>=0.11.1 in c:\\users\\sw2158\\appdata\\local\\programs\\python\\python310\\lib\\site-packages (from transformers<5.0.0,>=4.6.0->sentence_transformers) (0.13.2)\n",
      "Requirement already satisfied: colorama in c:\\users\\sw2158\\appdata\\roaming\\python\\python310\\site-packages (from tqdm->sentence_transformers) (0.4.6)\n",
      "Requirement already satisfied: click in c:\\users\\sw2158\\appdata\\local\\programs\\python\\python310\\lib\\site-packages (from nltk->sentence_transformers) (8.1.3)\n",
      "Requirement already satisfied: joblib in c:\\users\\sw2158\\appdata\\local\\programs\\python\\python310\\lib\\site-packages (from nltk->sentence_transformers) (1.2.0)\n",
      "Requirement already satisfied: threadpoolctl>=2.0.0 in c:\\users\\sw2158\\appdata\\local\\programs\\python\\python310\\lib\\site-packages (from scikit-learn->sentence_transformers) (3.1.0)\n",
      "Requirement already satisfied: pillow!=8.3.*,>=5.3.0 in c:\\users\\sw2158\\appdata\\local\\programs\\python\\python310\\lib\\site-packages (from torchvision->sentence_transformers) (9.3.0)\n",
      "Requirement already satisfied: idna<4,>=2.5 in c:\\users\\sw2158\\appdata\\local\\programs\\python\\python310\\lib\\site-packages (from requests->huggingface-hub>=0.4.0->sentence_transformers) (3.4)\n",
      "Requirement already satisfied: charset-normalizer<3,>=2 in c:\\users\\sw2158\\appdata\\local\\programs\\python\\python310\\lib\\site-packages (from requests->huggingface-hub>=0.4.0->sentence_transformers) (2.1.1)\n",
      "Requirement already satisfied: urllib3<1.27,>=1.21.1 in c:\\users\\sw2158\\appdata\\local\\programs\\python\\python310\\lib\\site-packages (from requests->huggingface-hub>=0.4.0->sentence_transformers) (1.26.13)\n",
      "Requirement already satisfied: certifi>=2017.4.17 in c:\\users\\sw2158\\appdata\\local\\programs\\python\\python310\\lib\\site-packages (from requests->huggingface-hub>=0.4.0->sentence_transformers) (2022.12.7)\n"
     ]
    }
   ],
   "source": [
    "!pip install sentence_transformers"
   ]
  },
  {
   "cell_type": "code",
   "execution_count": 9,
   "metadata": {},
   "outputs": [
    {
     "name": "stdout",
     "output_type": "stream",
     "text": [
      "Requirement already satisfied: pandas in c:\\users\\sw2158\\appdata\\local\\programs\\python\\python310\\lib\\site-packages (1.5.2)\n",
      "Requirement already satisfied: numpy>=1.21.0 in c:\\users\\sw2158\\appdata\\local\\programs\\python\\python310\\lib\\site-packages (from pandas) (1.24.0)\n",
      "Requirement already satisfied: pytz>=2020.1 in c:\\users\\sw2158\\appdata\\local\\programs\\python\\python310\\lib\\site-packages (from pandas) (2022.7)\n",
      "Requirement already satisfied: python-dateutil>=2.8.1 in c:\\users\\sw2158\\appdata\\roaming\\python\\python310\\site-packages (from pandas) (2.8.2)\n",
      "Requirement already satisfied: six>=1.5 in c:\\users\\sw2158\\appdata\\roaming\\python\\python310\\site-packages (from python-dateutil>=2.8.1->pandas) (1.16.0)\n",
      "Requirement already satisfied: sklearn in c:\\users\\sw2158\\appdata\\local\\programs\\python\\python310\\lib\\site-packages (0.0.post1)\n"
     ]
    }
   ],
   "source": [
    "!pip install pandas\n",
    "!pip install sklearn"
   ]
  },
  {
   "cell_type": "code",
   "execution_count": 9,
   "metadata": {},
   "outputs": [],
   "source": [
    "import pandas as pd\n",
    "from sentence_transformers import SentenceTransformer\n",
    "from sklearn.metrics.pairwise import cosine_similarity"
   ]
  },
  {
   "cell_type": "code",
   "execution_count": 10,
   "metadata": {},
   "outputs": [
    {
     "data": {
      "text/html": [
       "<div>\n",
       "<style scoped>\n",
       "    .dataframe tbody tr th:only-of-type {\n",
       "        vertical-align: middle;\n",
       "    }\n",
       "\n",
       "    .dataframe tbody tr th {\n",
       "        vertical-align: top;\n",
       "    }\n",
       "\n",
       "    .dataframe thead th {\n",
       "        text-align: right;\n",
       "    }\n",
       "</style>\n",
       "<table border=\"1\" class=\"dataframe\">\n",
       "  <thead>\n",
       "    <tr style=\"text-align: right;\">\n",
       "      <th></th>\n",
       "      <th>구분</th>\n",
       "      <th>유저</th>\n",
       "      <th>챗봇</th>\n",
       "    </tr>\n",
       "  </thead>\n",
       "  <tbody>\n",
       "    <tr>\n",
       "      <th>0</th>\n",
       "      <td>학교정보</td>\n",
       "      <td>부산소마고는 어떤 곳인가요?</td>\n",
       "      <td>부산광역시 강서구 가락대로 1393에 위치한 남녀공학 특수목적 고등학교입니다. 19...</td>\n",
       "    </tr>\n",
       "    <tr>\n",
       "      <th>1</th>\n",
       "      <td>학교정보</td>\n",
       "      <td>학교에 체육시설이 있나요?</td>\n",
       "      <td>구기종목을 할 수 있는 강당과 교내 헬스장이 구비되어있습니다.</td>\n",
       "    </tr>\n",
       "    <tr>\n",
       "      <th>2</th>\n",
       "      <td>학교정보</td>\n",
       "      <td>개인적 사유로 인한 전학이 가능한가요?</td>\n",
       "      <td>전출은 가능하나 전입학은 불가능합니다.</td>\n",
       "    </tr>\n",
       "    <tr>\n",
       "      <th>3</th>\n",
       "      <td>학교정보</td>\n",
       "      <td>재학 중 학원을 다닐 수 있나요?</td>\n",
       "      <td>마이스터고 일과운영은 정규시간은 8시 30분에 시작하여 16시 10분에 종료됩니다....</td>\n",
       "    </tr>\n",
       "    <tr>\n",
       "      <th>4</th>\n",
       "      <td>대화</td>\n",
       "      <td>안녕하세요.</td>\n",
       "      <td>안녕하세요. 소마고 챗봇입니다.</td>\n",
       "    </tr>\n",
       "  </tbody>\n",
       "</table>\n",
       "</div>"
      ],
      "text/plain": [
       "     구분                     유저  \\\n",
       "0  학교정보        부산소마고는 어떤 곳인가요?   \n",
       "1  학교정보         학교에 체육시설이 있나요?   \n",
       "2  학교정보  개인적 사유로 인한 전학이 가능한가요?   \n",
       "3  학교정보     재학 중 학원을 다닐 수 있나요?   \n",
       "4    대화                 안녕하세요.   \n",
       "\n",
       "                                                  챗봇  \n",
       "0  부산광역시 강서구 가락대로 1393에 위치한 남녀공학 특수목적 고등학교입니다. 19...  \n",
       "1                 구기종목을 할 수 있는 강당과 교내 헬스장이 구비되어있습니다.  \n",
       "2                              전출은 가능하나 전입학은 불가능합니다.  \n",
       "3  마이스터고 일과운영은 정규시간은 8시 30분에 시작하여 16시 10분에 종료됩니다....  \n",
       "4                                  안녕하세요. 소마고 챗봇입니다.  "
      ]
     },
     "execution_count": 10,
     "metadata": {},
     "output_type": "execute_result"
    }
   ],
   "source": [
    "df = pd.read_csv('chatbot.csv')\n",
    "df.head()"
   ]
  },
  {
   "cell_type": "code",
   "execution_count": 11,
   "metadata": {},
   "outputs": [
    {
     "data": {
      "text/html": [
       "<div>\n",
       "<style scoped>\n",
       "    .dataframe tbody tr th:only-of-type {\n",
       "        vertical-align: middle;\n",
       "    }\n",
       "\n",
       "    .dataframe tbody tr th {\n",
       "        vertical-align: top;\n",
       "    }\n",
       "\n",
       "    .dataframe thead th {\n",
       "        text-align: right;\n",
       "    }\n",
       "</style>\n",
       "<table border=\"1\" class=\"dataframe\">\n",
       "  <thead>\n",
       "    <tr style=\"text-align: right;\">\n",
       "      <th></th>\n",
       "      <th>구분</th>\n",
       "      <th>유저</th>\n",
       "      <th>챗봇</th>\n",
       "      <th>embedding</th>\n",
       "    </tr>\n",
       "  </thead>\n",
       "  <tbody>\n",
       "    <tr>\n",
       "      <th>0</th>\n",
       "      <td>학교정보</td>\n",
       "      <td>부산소마고는 어떤 곳인가요?</td>\n",
       "      <td>부산광역시 강서구 가락대로 1393에 위치한 남녀공학 특수목적 고등학교입니다. 19...</td>\n",
       "      <td>[-0.06551128, -0.048543196, -0.2451021, 0.4099...</td>\n",
       "    </tr>\n",
       "    <tr>\n",
       "      <th>1</th>\n",
       "      <td>학교정보</td>\n",
       "      <td>학교에 체육시설이 있나요?</td>\n",
       "      <td>구기종목을 할 수 있는 강당과 교내 헬스장이 구비되어있습니다.</td>\n",
       "      <td>[-0.05206972, -0.65187186, -0.31265807, -0.516...</td>\n",
       "    </tr>\n",
       "    <tr>\n",
       "      <th>2</th>\n",
       "      <td>학교정보</td>\n",
       "      <td>개인적 사유로 인한 전학이 가능한가요?</td>\n",
       "      <td>전출은 가능하나 전입학은 불가능합니다.</td>\n",
       "      <td>[-0.81093276, -0.30493176, -0.06119477, -0.792...</td>\n",
       "    </tr>\n",
       "    <tr>\n",
       "      <th>3</th>\n",
       "      <td>학교정보</td>\n",
       "      <td>재학 중 학원을 다닐 수 있나요?</td>\n",
       "      <td>마이스터고 일과운영은 정규시간은 8시 30분에 시작하여 16시 10분에 종료됩니다....</td>\n",
       "      <td>[-0.4195057, -0.09569498, 0.3330125, -0.441710...</td>\n",
       "    </tr>\n",
       "    <tr>\n",
       "      <th>4</th>\n",
       "      <td>대화</td>\n",
       "      <td>안녕하세요.</td>\n",
       "      <td>안녕하세요. 소마고 챗봇입니다.</td>\n",
       "      <td>[-0.15855895, -0.54619414, 0.4143429, -0.20370...</td>\n",
       "    </tr>\n",
       "  </tbody>\n",
       "</table>\n",
       "</div>"
      ],
      "text/plain": [
       "     구분                     유저  \\\n",
       "0  학교정보        부산소마고는 어떤 곳인가요?   \n",
       "1  학교정보         학교에 체육시설이 있나요?   \n",
       "2  학교정보  개인적 사유로 인한 전학이 가능한가요?   \n",
       "3  학교정보     재학 중 학원을 다닐 수 있나요?   \n",
       "4    대화                 안녕하세요.   \n",
       "\n",
       "                                                  챗봇  \\\n",
       "0  부산광역시 강서구 가락대로 1393에 위치한 남녀공학 특수목적 고등학교입니다. 19...   \n",
       "1                 구기종목을 할 수 있는 강당과 교내 헬스장이 구비되어있습니다.   \n",
       "2                              전출은 가능하나 전입학은 불가능합니다.   \n",
       "3  마이스터고 일과운영은 정규시간은 8시 30분에 시작하여 16시 10분에 종료됩니다....   \n",
       "4                                  안녕하세요. 소마고 챗봇입니다.   \n",
       "\n",
       "                                           embedding  \n",
       "0  [-0.06551128, -0.048543196, -0.2451021, 0.4099...  \n",
       "1  [-0.05206972, -0.65187186, -0.31265807, -0.516...  \n",
       "2  [-0.81093276, -0.30493176, -0.06119477, -0.792...  \n",
       "3  [-0.4195057, -0.09569498, 0.3330125, -0.441710...  \n",
       "4  [-0.15855895, -0.54619414, 0.4143429, -0.20370...  "
      ]
     },
     "execution_count": 11,
     "metadata": {},
     "output_type": "execute_result"
    }
   ],
   "source": [
    "model=SentenceTransformer('jhgan/ko-sroberta-multitask')\n",
    "\n",
    "df['embedding'] = df['유저'].map(lambda x: list(model.encode(x)))\n",
    "df.head()"
   ]
  },
  {
   "cell_type": "code",
   "execution_count": 12,
   "metadata": {},
   "outputs": [],
   "source": [
    "df.to_csv('chatbot.csv', index = False)"
   ]
  },
  {
   "cell_type": "code",
   "execution_count": 13,
   "metadata": {},
   "outputs": [
    {
     "data": {
      "text/html": [
       "<div>\n",
       "<style scoped>\n",
       "    .dataframe tbody tr th:only-of-type {\n",
       "        vertical-align: middle;\n",
       "    }\n",
       "\n",
       "    .dataframe tbody tr th {\n",
       "        vertical-align: top;\n",
       "    }\n",
       "\n",
       "    .dataframe thead th {\n",
       "        text-align: right;\n",
       "    }\n",
       "</style>\n",
       "<table border=\"1\" class=\"dataframe\">\n",
       "  <thead>\n",
       "    <tr style=\"text-align: right;\">\n",
       "      <th></th>\n",
       "      <th>구분</th>\n",
       "      <th>유저</th>\n",
       "      <th>챗봇</th>\n",
       "      <th>embedding</th>\n",
       "      <th>distance</th>\n",
       "    </tr>\n",
       "  </thead>\n",
       "  <tbody>\n",
       "    <tr>\n",
       "      <th>0</th>\n",
       "      <td>학교정보</td>\n",
       "      <td>부산소마고는 어떤 곳인가요?</td>\n",
       "      <td>부산광역시 강서구 가락대로 1393에 위치한 남녀공학 특수목적 고등학교입니다. 19...</td>\n",
       "      <td>[-0.06551128, -0.048543196, -0.2451021, 0.4099...</td>\n",
       "      <td>0.633552</td>\n",
       "    </tr>\n",
       "    <tr>\n",
       "      <th>1</th>\n",
       "      <td>학교정보</td>\n",
       "      <td>학교에 체육시설이 있나요?</td>\n",
       "      <td>구기종목을 할 수 있는 강당과 교내 헬스장이 구비되어있습니다.</td>\n",
       "      <td>[-0.05206972, -0.65187186, -0.31265807, -0.516...</td>\n",
       "      <td>0.019754</td>\n",
       "    </tr>\n",
       "    <tr>\n",
       "      <th>2</th>\n",
       "      <td>학교정보</td>\n",
       "      <td>개인적 사유로 인한 전학이 가능한가요?</td>\n",
       "      <td>전출은 가능하나 전입학은 불가능합니다.</td>\n",
       "      <td>[-0.81093276, -0.30493176, -0.06119477, -0.792...</td>\n",
       "      <td>0.054318</td>\n",
       "    </tr>\n",
       "    <tr>\n",
       "      <th>3</th>\n",
       "      <td>학교정보</td>\n",
       "      <td>재학 중 학원을 다닐 수 있나요?</td>\n",
       "      <td>마이스터고 일과운영은 정규시간은 8시 30분에 시작하여 16시 10분에 종료됩니다....</td>\n",
       "      <td>[-0.4195057, -0.09569498, 0.3330125, -0.441710...</td>\n",
       "      <td>0.062363</td>\n",
       "    </tr>\n",
       "    <tr>\n",
       "      <th>4</th>\n",
       "      <td>대화</td>\n",
       "      <td>안녕하세요.</td>\n",
       "      <td>안녕하세요. 소마고 챗봇입니다.</td>\n",
       "      <td>[-0.15855895, -0.54619414, 0.4143429, -0.20370...</td>\n",
       "      <td>0.267418</td>\n",
       "    </tr>\n",
       "  </tbody>\n",
       "</table>\n",
       "</div>"
      ],
      "text/plain": [
       "     구분                     유저  \\\n",
       "0  학교정보        부산소마고는 어떤 곳인가요?   \n",
       "1  학교정보         학교에 체육시설이 있나요?   \n",
       "2  학교정보  개인적 사유로 인한 전학이 가능한가요?   \n",
       "3  학교정보     재학 중 학원을 다닐 수 있나요?   \n",
       "4    대화                 안녕하세요.   \n",
       "\n",
       "                                                  챗봇  \\\n",
       "0  부산광역시 강서구 가락대로 1393에 위치한 남녀공학 특수목적 고등학교입니다. 19...   \n",
       "1                 구기종목을 할 수 있는 강당과 교내 헬스장이 구비되어있습니다.   \n",
       "2                              전출은 가능하나 전입학은 불가능합니다.   \n",
       "3  마이스터고 일과운영은 정규시간은 8시 30분에 시작하여 16시 10분에 종료됩니다....   \n",
       "4                                  안녕하세요. 소마고 챗봇입니다.   \n",
       "\n",
       "                                           embedding  distance  \n",
       "0  [-0.06551128, -0.048543196, -0.2451021, 0.4099...  0.633552  \n",
       "1  [-0.05206972, -0.65187186, -0.31265807, -0.516...  0.019754  \n",
       "2  [-0.81093276, -0.30493176, -0.06119477, -0.792...  0.054318  \n",
       "3  [-0.4195057, -0.09569498, 0.3330125, -0.441710...  0.062363  \n",
       "4  [-0.15855895, -0.54619414, 0.4143429, -0.20370...  0.267418  "
      ]
     },
     "execution_count": 13,
     "metadata": {},
     "output_type": "execute_result"
    }
   ],
   "source": [
    "text='소마고를 소개해주세요'\n",
    "embedding = model.encode(text)\n",
    "\n",
    "df['distance']=df['embedding'].map(lambda x: cosine_similarity([embedding],[x]).squeeze())\n",
    "df.head()"
   ]
  },
  {
   "cell_type": "code",
   "execution_count": 14,
   "metadata": {},
   "outputs": [
    {
     "name": "stdout",
     "output_type": "stream",
     "text": [
      "학교정보\n",
      "부산소마고는 어떤 곳인가요?\n",
      "부산광역시 강서구 가락대로 1393에 위치한 남녀공학 특수목적 고등학교입니다. 1970년 개교하였으며, 2021년 마이스터고로 전환되었습니다. \n",
      "0.6335515379905701\n"
     ]
    }
   ],
   "source": [
    "answer = df.loc[df['distance'].idxmax()]\n",
    "print(answer['구분'])\n",
    "print(answer['유저'])\n",
    "print(answer['챗봇'])\n",
    "print(answer['distance'])"
   ]
  }
 ],
 "metadata": {
  "kernelspec": {
   "display_name": "Python 3",
   "language": "python",
   "name": "python3"
  },
  "language_info": {
   "codemirror_mode": {
    "name": "ipython",
    "version": 3
   },
   "file_extension": ".py",
   "mimetype": "text/x-python",
   "name": "python",
   "nbconvert_exporter": "python",
   "pygments_lexer": "ipython3",
   "version": "3.10.9"
  },
  "orig_nbformat": 4,
  "vscode": {
   "interpreter": {
    "hash": "d70fa05f20283df735727bd68a66cbe27ae7573dafbd4c94d40d47a46e4d2630"
   }
  }
 },
 "nbformat": 4,
 "nbformat_minor": 2
}
